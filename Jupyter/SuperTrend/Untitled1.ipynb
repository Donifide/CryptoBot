{
 "cells": [
  {
   "cell_type": "code",
   "execution_count": null,
   "id": "reasonable-favorite",
   "metadata": {},
   "outputs": [],
   "source": [
    "order = exchange.create_market_buy_order(f'{ticker}',order_size)\n",
    "            print('Status:'+order['info']['status'],\n",
    "                  'Price:'+order['trades'][0]['info']['price'],\n",
    "                  'Quantity:'+order['info']['executedQty'],\n",
    "                  'Type:'+order['info']['side'])\n",
    "            buys.append({'Date':datetime.now().isoformat(),\n",
    "                         'Ticker':ticker,\n",
    "                         'Status':order['info']['status'],\n",
    "                         'Price':order['trades'][0]['info']['price'],\n",
    "                         'Quantity':order['info']['executedQty'],\n",
    "                         'Type':order['info']['side']})"
   ]
  }
 ],
 "metadata": {
  "kernelspec": {
   "display_name": "Python 3",
   "language": "python",
   "name": "python3"
  },
  "language_info": {
   "codemirror_mode": {
    "name": "ipython",
    "version": 3
   },
   "file_extension": ".py",
   "mimetype": "text/x-python",
   "name": "python",
   "nbconvert_exporter": "python",
   "pygments_lexer": "ipython3",
   "version": "3.8.5"
  }
 },
 "nbformat": 4,
 "nbformat_minor": 5
}
